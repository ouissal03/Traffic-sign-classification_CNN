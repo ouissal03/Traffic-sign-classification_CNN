{
 "cells": [
  {
   "cell_type": "markdown",
   "id": "5d630b22-d14d-4afe-b46a-f9e20a5fbee7",
   "metadata": {},
   "source": [
    "<h1>Réseaux de neurones convolutionnels (CNN)</h1>"
   ]
  },
  {
   "cell_type": "markdown",
   "id": "21d163c5-729a-4757-96ff-1d152d09fd28",
   "metadata": {},
   "source": [
    "<h2>Reconnaissance des panneaux de signalisation routière à l'aide de CNN et Keras en Python:</h2>"
   ]
  },
  {
   "cell_type": "markdown",
   "id": "9cbad76a-85af-4c8c-8f21-4ba26ba09af5",
   "metadata": {},
   "source": [
    "<p>À l'ère de l'intelligence artificielle, les êtres humains deviennent de plus en plus dépendants de la technologie. Avec la technologie améliorée, des multinationales telles que Google, Tesla, Uber, Ford, Audi, Toyota, Mercedes-Benz et bien d'autres travaillent sur l'automatisation des véhicules. Elles tentent de rendre les véhicules autonomes ou sans conducteur plus précis. Vous connaissez peut-être tous les voitures autonomes, où le véhicule lui-même se comporte comme un conducteur et n'a pas besoin de l'aide humaine pour circuler sur la route. Il n'est pas faux de penser aux aspects de sécurité, à un risque d'accidents majeurs provenant des machines. Mais aucune machine n'est plus précise que les humains. Les chercheurs utilisent de nombreux algorithmes pour garantir une sécurité routière et une précision à 100 %. Un tel algorithme est la Reconnaissance des Panneaux de Signalisation dont nous parlons dans ce blog.</p>"
   ]
  },
  {
   "cell_type": "markdown",
   "id": "76f25271-b289-4436-b083-284765d1b6d2",
   "metadata": {},
   "source": [
    "<h3>Dataset exploration</h3>"
   ]
  },
  {
   "cell_type": "code",
   "execution_count": 1,
   "id": "59511a5e-cbdb-4b9f-a8e8-c1b014a004b7",
   "metadata": {},
   "outputs": [],
   "source": [
    "import numpy as np"
   ]
  },
  {
   "cell_type": "code",
   "execution_count": 4,
   "id": "8aebc942-491b-4058-9410-ee134953e1a5",
   "metadata": {},
   "outputs": [
    {
     "name": "stderr",
     "output_type": "stream",
     "text": [
      "C:\\Users\\21263\\AppData\\Local\\Temp\\ipykernel_5360\\2494059279.py:1: DeprecationWarning: \n",
      "Pyarrow will become a required dependency of pandas in the next major release of pandas (pandas 3.0),\n",
      "(to allow more performant data types, such as the Arrow string type, and better interoperability with other libraries)\n",
      "but was not found to be installed on your system.\n",
      "If this would cause problems for you,\n",
      "please provide us feedback at https://github.com/pandas-dev/pandas/issues/54466\n",
      "        \n",
      "  import pandas as pd\n"
     ]
    }
   ],
   "source": [
    "import pandas as pd\n",
    "import matplotlib.pyplot as plt\n",
    "import tensorflow as tf \n",
    "from PIL import Image \n",
    "import os \n",
    "from sklearn.model_selection import train_test_split \n",
    "from keras.utils import to_categorical \n",
    "from keras.models import Sequential \n",
    "from keras.layers import Conv2D, MaxPool2D, Dense, Flatten, Dropout"
   ]
  },
  {
   "cell_type": "code",
   "execution_count": 8,
   "id": "f890e2a3-a793-403a-87ac-91065f93b7d3",
   "metadata": {},
   "outputs": [],
   "source": [
    "import numpy as np\n",
    "from PIL import Image \n",
    "import os \n",
    "\n",
    "data = []\n",
    "labels = []\n",
    "classes = 43 \n",
    "cur_path = os.getcwd() \n",
    "\n",
    "for i in range(classes): \n",
    "    path = os.path.join(cur_path, 'train', str(i)) \n",
    "    images = os.listdir(path) \n",
    "    for a in images: \n",
    "        try: \n",
    "            image = Image.open(os.path.join(path, a)) \n",
    "            image = image.resize((30,30)) \n",
    "            image = np.array(image) \n",
    "            data.append(image) \n",
    "            labels.append(i) \n",
    "        except: \n",
    "            print(\"Error loading image\") \n",
    "\n",
    "data = np.array(data)\n",
    "labels = np.array(labels)\n"
   ]
  },
  {
   "cell_type": "code",
   "execution_count": 17,
   "id": "6ec8bbcd-fb30-43bc-9d97-bbf83a79340e",
   "metadata": {},
   "outputs": [
    {
     "name": "stdout",
     "output_type": "stream",
     "text": [
      "(39209, 30, 30, 3) (39209,)\n",
      "(31367, 30, 30, 3) (7842, 30, 30, 3) (31367,) (7842,)\n"
     ]
    }
   ],
   "source": [
    "print(data.shape, labels.shape)\n",
    "#Splitting training and testing dataset\n",
    "X_t1, X_t2, y_t1, y_t2 = train_test_split(data, labels, test_size=0.2, random_state=42)\n",
    "print(X_t1.shape, X_t2.shape, y_t1.shape, y_t2.shape)\n",
    "#Converting the labels into one hot encoding\n",
    "y_t1 = to_categorical(y_t1, 43)\n",
    "y_t2 = to_categorical(y_t2, 43)"
   ]
  },
  {
   "cell_type": "markdown",
   "id": "98719f2a-bc9c-4f73-a5d3-acdfced570a5",
   "metadata": {},
   "source": [
    "<h3>CNN model building</h3>"
   ]
  },
  {
   "cell_type": "code",
   "execution_count": 18,
   "id": "bc3cda32-80e3-4da1-b6e0-71c221444bcd",
   "metadata": {},
   "outputs": [],
   "source": [
    "from keras.models import Sequential\n",
    "from keras.layers import Conv2D, MaxPool2D, Dropout, Flatten, Dense\n",
    "\n",
    "model = Sequential() \n",
    "model.add(Conv2D(filters=32, kernel_size=(5,5), activation='relu', input_shape=X_t1.shape[1:]))\n",
    "model.add(Conv2D(filters=32, kernel_size=(5,5), activation='relu')) \n",
    "model.add(MaxPool2D(pool_size=(2, 2))) \n",
    "model.add(Dropout(rate=0.25)) \n",
    "model.add(Conv2D(filters=64, kernel_size=(3, 3), activation='relu'))\n",
    "model.add(Conv2D(filters=64, kernel_size=(3, 3), activation='relu'))\n",
    "model.add(MaxPool2D(pool_size=(2, 2))) \n",
    "model.add(Dropout(rate=0.25)) \n",
    "model.add(Flatten())\n",
    "model.add(Dense(256, activation='relu')) \n",
    "model.add(Dropout(rate=0.5))\n",
    "model.add(Dense(43, activation='softmax'))\n",
    "\n",
    "# Compilation du modèle \n",
    "model.compile(loss='categorical_crossentropy', optimizer='adam', metrics=['accuracy'])\n"
   ]
  },
  {
   "cell_type": "markdown",
   "id": "1e2696c6-f6ee-425f-83f3-d4e96f7c7ccd",
   "metadata": {},
   "source": [
    "<h3>Model training and validation</h3>"
   ]
  },
  {
   "cell_type": "code",
   "execution_count": 19,
   "id": "55295737-971f-4ea3-9b35-8ae2dedf7b81",
   "metadata": {},
   "outputs": [
    {
     "name": "stdout",
     "output_type": "stream",
     "text": [
      "Epoch 1/15\n",
      "\u001b[1m981/981\u001b[0m \u001b[32m━━━━━━━━━━━━━━━━━━━━\u001b[0m\u001b[37m\u001b[0m \u001b[1m84s\u001b[0m 74ms/step - accuracy: 0.3171 - loss: 3.4531 - val_accuracy: 0.9411 - val_loss: 0.2936\n",
      "Epoch 2/15\n",
      "\u001b[1m981/981\u001b[0m \u001b[32m━━━━━━━━━━━━━━━━━━━━\u001b[0m\u001b[37m\u001b[0m \u001b[1m67s\u001b[0m 68ms/step - accuracy: 0.8375 - loss: 0.5866 - val_accuracy: 0.9648 - val_loss: 0.1253\n",
      "Epoch 3/15\n",
      "\u001b[1m981/981\u001b[0m \u001b[32m━━━━━━━━━━━━━━━━━━━━\u001b[0m\u001b[37m\u001b[0m \u001b[1m82s\u001b[0m 68ms/step - accuracy: 0.9027 - loss: 0.3419 - val_accuracy: 0.9759 - val_loss: 0.0971\n",
      "Epoch 4/15\n",
      "\u001b[1m981/981\u001b[0m \u001b[32m━━━━━━━━━━━━━━━━━━━━\u001b[0m\u001b[37m\u001b[0m \u001b[1m69s\u001b[0m 70ms/step - accuracy: 0.9267 - loss: 0.2606 - val_accuracy: 0.9814 - val_loss: 0.0777\n",
      "Epoch 5/15\n",
      "\u001b[1m981/981\u001b[0m \u001b[32m━━━━━━━━━━━━━━━━━━━━\u001b[0m\u001b[37m\u001b[0m \u001b[1m70s\u001b[0m 71ms/step - accuracy: 0.9389 - loss: 0.2190 - val_accuracy: 0.9871 - val_loss: 0.0486\n",
      "Epoch 6/15\n",
      "\u001b[1m981/981\u001b[0m \u001b[32m━━━━━━━━━━━━━━━━━━━━\u001b[0m\u001b[37m\u001b[0m \u001b[1m70s\u001b[0m 72ms/step - accuracy: 0.9408 - loss: 0.2137 - val_accuracy: 0.9858 - val_loss: 0.0502\n",
      "Epoch 7/15\n",
      "\u001b[1m981/981\u001b[0m \u001b[32m━━━━━━━━━━━━━━━━━━━━\u001b[0m\u001b[37m\u001b[0m \u001b[1m68s\u001b[0m 69ms/step - accuracy: 0.9404 - loss: 0.2155 - val_accuracy: 0.9862 - val_loss: 0.0514\n",
      "Epoch 8/15\n",
      "\u001b[1m981/981\u001b[0m \u001b[32m━━━━━━━━━━━━━━━━━━━━\u001b[0m\u001b[37m\u001b[0m \u001b[1m83s\u001b[0m 70ms/step - accuracy: 0.9478 - loss: 0.2127 - val_accuracy: 0.9793 - val_loss: 0.0805\n",
      "Epoch 9/15\n",
      "\u001b[1m981/981\u001b[0m \u001b[32m━━━━━━━━━━━━━━━━━━━━\u001b[0m\u001b[37m\u001b[0m \u001b[1m68s\u001b[0m 69ms/step - accuracy: 0.9466 - loss: 0.2035 - val_accuracy: 0.9866 - val_loss: 0.0464\n",
      "Epoch 10/15\n",
      "\u001b[1m981/981\u001b[0m \u001b[32m━━━━━━━━━━━━━━━━━━━━\u001b[0m\u001b[37m\u001b[0m \u001b[1m83s\u001b[0m 70ms/step - accuracy: 0.9478 - loss: 0.2113 - val_accuracy: 0.9899 - val_loss: 0.0404\n",
      "Epoch 11/15\n",
      "\u001b[1m981/981\u001b[0m \u001b[32m━━━━━━━━━━━━━━━━━━━━\u001b[0m\u001b[37m\u001b[0m \u001b[1m74s\u001b[0m 75ms/step - accuracy: 0.9599 - loss: 0.1524 - val_accuracy: 0.9908 - val_loss: 0.0355\n",
      "Epoch 12/15\n",
      "\u001b[1m981/981\u001b[0m \u001b[32m━━━━━━━━━━━━━━━━━━━━\u001b[0m\u001b[37m\u001b[0m \u001b[1m69s\u001b[0m 70ms/step - accuracy: 0.9515 - loss: 0.1868 - val_accuracy: 0.9834 - val_loss: 0.0681\n",
      "Epoch 13/15\n",
      "\u001b[1m981/981\u001b[0m \u001b[32m━━━━━━━━━━━━━━━━━━━━\u001b[0m\u001b[37m\u001b[0m \u001b[1m71s\u001b[0m 72ms/step - accuracy: 0.9504 - loss: 0.2027 - val_accuracy: 0.9915 - val_loss: 0.0332\n",
      "Epoch 14/15\n",
      "\u001b[1m981/981\u001b[0m \u001b[32m━━━━━━━━━━━━━━━━━━━━\u001b[0m\u001b[37m\u001b[0m \u001b[1m73s\u001b[0m 74ms/step - accuracy: 0.9536 - loss: 0.1915 - val_accuracy: 0.9869 - val_loss: 0.0513\n",
      "Epoch 15/15\n",
      "\u001b[1m981/981\u001b[0m \u001b[32m━━━━━━━━━━━━━━━━━━━━\u001b[0m\u001b[37m\u001b[0m \u001b[1m74s\u001b[0m 75ms/step - accuracy: 0.9542 - loss: 0.1847 - val_accuracy: 0.9796 - val_loss: 0.0787\n"
     ]
    }
   ],
   "source": [
    "eps = 15\n",
    "anc = model.fit(X_t1, y_t1, batch_size=32, epochs=eps, validation_data=(X_t2, y_t2))"
   ]
  },
  {
   "cell_type": "code",
   "execution_count": 25,
   "id": "5cf59caa-eb8f-4f89-9e2f-b1e84391537e",
   "metadata": {},
   "outputs": [
    {
     "data": {
      "image/png": "[encoded data removed]",
      "text/plain": [
       "<Figure size 640x480 with 1 Axes>"
      ]
     },
     "metadata": {},
     "output_type": "display_data"
    },
    {
     "data": {
      "image/png": "[encoded data removed]",
      "text/plain": [
       "<Figure size 640x480 with 1 Axes>"
      ]
     },
     "metadata": {},
     "output_type": "display_data"
    }
   ],
   "source": [
    "\n",
    "# Plotting graphs for accuracy\n",
    "plt.figure(0)\n",
    "plt.plot(anc.history['accuracy'], label='training accuracy')\n",
    "plt.plot(anc.history['val_accuracy'], label='validation accuracy')\n",
    "plt.title('Accuracy')\n",
    "plt.xlabel('epochs')\n",
    "plt.ylabel('accuracy')\n",
    "plt.legend()\n",
    "plt.show()\n",
    "\n",
    "# Plotting graphs for loss\n",
    "plt.figure(1)\n",
    "plt.plot(anc.history['loss'], label='training loss')\n",
    "plt.plot(anc.history['val_loss'], label='validation loss')\n",
    "plt.title('Loss')\n",
    "plt.xlabel('epochs')\n",
    "plt.ylabel('loss')\n",
    "plt.legend()\n",
    "plt.show()\n"
   ]
  },
  {
   "cell_type": "markdown",
   "id": "f5ac18cf-3ba7-4545-9da2-94a49095c207",
   "metadata": {},
   "source": [
    "<h3>Model testing</h3>"
   ]
  },
  {
   "cell_type": "code",
   "execution_count": 28,
   "id": "0c96e68a-60a4-4dcc-97ee-d087c69f0970",
   "metadata": {},
   "outputs": [
    {
     "name": "stdout",
     "output_type": "stream",
     "text": [
      "\u001b[1m395/395\u001b[0m \u001b[32m━━━━━━━━━━━━━━━━━━━━\u001b[0m\u001b[37m\u001b[0m \u001b[1m9s\u001b[0m 22ms/step\n",
      "0.9566904196357878\n"
     ]
    }
   ],
   "source": [
    "#testing accuracy on test dataset\n",
    "from sklearn.metrics import accuracy_score\n",
    "y_test = pd.read_csv('Test.csv')\n",
    "labels = y_test[\"ClassId\"].values\n",
    "imgs = y_test[\"Path\"].values\n",
    "data=[]\n",
    "for img in imgs:\n",
    "   image = Image.open(img)\n",
    "   image = image.resize((30,30))\n",
    "   data.append(np.array(image))\n",
    "X_test=np.array(data)\n",
    "pred_probs = model.predict(X_test)\n",
    "pred = np.argmax(pred_probs, axis=1)\n",
    "#Accuracy with the test data\n",
    "from sklearn.metrics import accuracy_score\n",
    "print(accuracy_score(labels, pred))"
   ]
  },
  {
   "cell_type": "code",
   "execution_count": 31,
   "id": "9938c45d-aec0-48d0-b09c-b39b29ae1125",
   "metadata": {},
   "outputs": [],
   "source": [
    "# Sauvegarde du modèle au format natif de Keras\n",
    "model.save('traffic_classifier.keras')"
   ]
  },
  {
   "cell_type": "markdown",
   "id": "7f6ce40b-0adc-4177-9aa9-3cbbee7eefbd",
   "metadata": {},
   "source": [
    "<h2>GUI for Traffic Signs Classifier</h2>"
   ]
  },
  {
   "cell_type": "code",
   "execution_count": 1,
   "id": "dbad2829-6deb-4b18-8a46-6e79506f1e29",
   "metadata": {},
   "outputs": [
    {
     "name": "stderr",
     "output_type": "stream",
     "text": [
      "C:\\Users\\21263\\AppData\\Local\\Programs\\Python\\Python311\\Lib\\site-packages\\keras\\src\\saving\\saving_lib.py:415: UserWarning: Skipping variable loading for optimizer 'rmsprop', because it has 14 variables whereas the saved optimizer has 26 variables. \n",
      "  saveable.load_own_variables(weights_store.get(inner_path))\n"
     ]
    },
    {
     "name": "stdout",
     "output_type": "stream",
     "text": [
      "\u001b[1m1/1\u001b[0m \u001b[32m━━━━━━━━━━━━━━━━━━━━\u001b[0m\u001b[37m\u001b[0m \u001b[1m1s\u001b[0m 719ms/step\n",
      "Speed limit (30km/h)\n"
     ]
    }
   ],
   "source": [
    "import tkinter as tk\n",
    "from tkinter import filedialog\n",
    "from tkinter import *\n",
    "from PIL import ImageTk, Image\n",
    "import numpy\n",
    "# Load the trained model to classify sign\n",
    "from keras.models import load_model\n",
    "\n",
    "model = load_model('traffic_classifier.keras')\n",
    "\n",
    "#dictionary to label all traffic signs class.\n",
    "classes = { 1:'Speed limit (20km/h)',\n",
    "           2:'Speed limit (30km/h)',\n",
    "           3:'Speed limit (50km/h)',\n",
    "           4:'Speed limit (60km/h)',\n",
    "           5:'Speed limit (70km/h)',\n",
    "           6:'Speed limit (80km/h)',\n",
    "           7:'End of speed limit (80km/h)',\n",
    "           8:'Speed limit (100km/h)',\n",
    "           9:'Speed limit (120km/h)',\n",
    "           10:'No passing',\n",
    "           11:'No passing veh over 3.5 tons',\n",
    "           12:'Right-of-way at intersection',\n",
    "           13:'Priority road',\n",
    "           14:'Yield',\n",
    "           15:'Stop',\n",
    "           16:'No vehicles',\n",
    "           17:'Veh > 3.5 tons prohibited',\n",
    "           18:'No entry',\n",
    "           19:'General caution',\n",
    "           20:'Dangerous curve left',\n",
    "           21:'Dangerous curve right',\n",
    "           22:'Double curve',\n",
    "           23:'Bumpy road',\n",
    "           24:'Slippery road',\n",
    "           25:'Road narrows on the right',\n",
    "           26:'Road work',\n",
    "           27:'Traffic signals',\n",
    "           28:'Pedestrians',\n",
    "           29:'Children crossing',\n",
    "           30:'Bicycles crossing',\n",
    "           31:'Beware of ice/snow',\n",
    "           32:'Wild animals crossing',\n",
    "           33:'End speed + passing limits',\n",
    "           34:'Turn right ahead',\n",
    "           35:'Turn left ahead',\n",
    "           36:'Ahead only',\n",
    "           37:'Go straight or right',\n",
    "           38:'Go straight or left',\n",
    "           39:'Keep right',\n",
    "           40:'Keep left',\n",
    "           41:'Roundabout mandatory',\n",
    "           42:'End of no passing',\n",
    "           43:'End no passing vehicle with a weight greater than 3.5 tons' }\n",
    "# Initialise GUI\n",
    "top = tk.Tk()\n",
    "top.geometry('800x600')\n",
    "top.title('Traffic sign classification')\n",
    "top.configure(background='#CDCDCD')\n",
    "\n",
    "label = Label(top, background='#CDCDCD', font=('arial', 15, 'bold'))\n",
    "sign_image = Label(top)\n",
    "\n",
    "def classify(file_path):\n",
    "    global label_packed\n",
    "    image = Image.open(file_path)\n",
    "    image = image.resize((30, 30))\n",
    "    image = numpy.expand_dims(image, axis=0)\n",
    "    image = numpy.array(image)\n",
    "    pred = numpy.argmax(model.predict([image]), axis=-1)[0]\n",
    "    sign = classes[pred + 1]\n",
    "    print(sign)\n",
    "    label.configure(foreground='#011638', text=sign)\n",
    "\n",
    "def show_classify_button(file_path):\n",
    "    classify_b = Button(top, text=\"Classify Image\", command=lambda: classify(file_path), padx=10, pady=5)\n",
    "    classify_b.configure(background='#364156', foreground='white', font=('arial', 10, 'bold'))\n",
    "    classify_b.place(relx=0.79, rely=0.46)\n",
    "\n",
    "def upload_image():\n",
    "    try:\n",
    "        file_path = filedialog.askopenfilename()\n",
    "        uploaded = Image.open(file_path)\n",
    "        uploaded.thumbnail(((top.winfo_width() / 2.25), (top.winfo_height() / 2.25)))\n",
    "        im = ImageTk.PhotoImage(uploaded)\n",
    "        sign_image.configure(image=im)\n",
    "        sign_image.image = im\n",
    "        label.configure(text='')\n",
    "        show_classify_button(file_path)\n",
    "    except:\n",
    "        pass\n",
    "\n",
    "upload = Button(top, text=\"Upload an image\", command=upload_image, padx=10, pady=5)\n",
    "upload.configure(background='#364156', foreground='white', font=('arial', 10, 'bold'))\n",
    "upload.pack(side=BOTTOM, pady=50)\n",
    "\n",
    "sign_image.pack(side=BOTTOM, expand=True)\n",
    "label.pack(side=BOTTOM, expand=True)\n",
    "\n",
    "heading = Label(top, text=\"Check Traffic Sign\", pady=20, font=('arial', 20, 'bold'))\n",
    "heading.configure(background='#CDCDCD', foreground='#364156')\n",
    "heading.pack()\n",
    "\n",
    "top.mainloop()"
   ]
  },
  {
   "cell_type": "code",
   "execution_count": null,
   "id": "9e07e99b-d047-49a7-8e2c-2160bd6e92f9",
   "metadata": {},
   "outputs": [],
   "source": []
  }
 ],
 "metadata": {
  "kernelspec": {
   "display_name": "Python 3 (ipykernel)",
   "language": "python",
   "name": "python3"
  },
  "language_info": {
   "codemirror_mode": {
    "name": "ipython",
    "version": 3
   },
   "file_extension": ".py",
   "mimetype": "text/x-python",
   "name": "python",
   "nbconvert_exporter": "python",
   "pygments_lexer": "ipython3",
   "version": "3.11.0"
  }
 },
 "nbformat": 4,
 "nbformat_minor": 5
}
